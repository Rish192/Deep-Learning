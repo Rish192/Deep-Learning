{
  "nbformat": 4,
  "nbformat_minor": 0,
  "metadata": {
    "colab": {
      "provenance": [],
      "authorship_tag": "ABX9TyNuXbx0j4EPUcdX7L47zLyX"
    },
    "kernelspec": {
      "name": "python3",
      "display_name": "Python 3"
    },
    "language_info": {
      "name": "python"
    }
  },
  "cells": [
    {
      "cell_type": "code",
      "execution_count": null,
      "metadata": {
        "id": "uusgoCwQZJ5q"
      },
      "outputs": [],
      "source": [
        "import tensorflow as tf\n",
        "from tensorflow.keras.datasets import mnist\n",
        "from tensorflow.keras.models import Sequential\n",
        "from tensorflow.keras.layers import Dense, Flatten, Conv2D, MaxPooling2D\n",
        "from tensorflow.keras.utils import to_categorical"
      ]
    },
    {
      "cell_type": "code",
      "source": [
        "# Load MNIST dataset\n",
        "(x_train, y_train), (x_test, y_test) = mnist.load_data()"
      ],
      "metadata": {
        "colab": {
          "base_uri": "https://localhost:8080/"
        },
        "id": "3cuJ4LpMZPf2",
        "outputId": "6b606f32-b017-4ffe-b17b-180e16346171"
      },
      "execution_count": null,
      "outputs": [
        {
          "output_type": "stream",
          "name": "stdout",
          "text": [
            "Downloading data from https://storage.googleapis.com/tensorflow/tf-keras-datasets/mnist.npz\n",
            "11490434/11490434 [==============================] - 0s 0us/step\n"
          ]
        }
      ]
    },
    {
      "cell_type": "code",
      "source": [
        "# Preprocess the data\n",
        "x_train = x_train.reshape(x_train.shape[0], 28, 28, 1).astype('float32') / 255\n",
        "x_test = x_test.reshape(x_test.shape[0], 28, 28, 1).astype('float32') / 255"
      ],
      "metadata": {
        "id": "r9WSe_0HZVey"
      },
      "execution_count": null,
      "outputs": []
    },
    {
      "cell_type": "code",
      "source": [
        "# Convert labels to one-hot encoding\n",
        "y_train = to_categorical(y_train, 10)\n",
        "y_test = to_categorical(y_test, 10)"
      ],
      "metadata": {
        "id": "qBERqUCtZYkt"
      },
      "execution_count": null,
      "outputs": []
    },
    {
      "cell_type": "code",
      "source": [
        "# Define the model architecture\n",
        "model = Sequential([\n",
        "    Conv2D(32, kernel_size=(3, 3), activation='relu', input_shape=(28, 28, 1)),\n",
        "    MaxPooling2D(pool_size=(2, 2)),\n",
        "    Flatten(),\n",
        "    Dense(128, activation='relu'),\n",
        "    Dense(10, activation='softmax')\n",
        "])"
      ],
      "metadata": {
        "id": "bQtgNalOZbCz"
      },
      "execution_count": null,
      "outputs": []
    },
    {
      "cell_type": "code",
      "source": [
        "# Compile the model\n",
        "model.compile(loss='categorical_crossentropy',\n",
        "              optimizer='adam',\n",
        "              metrics=['accuracy'])"
      ],
      "metadata": {
        "id": "DR8kcu4PZfLG"
      },
      "execution_count": null,
      "outputs": []
    },
    {
      "cell_type": "code",
      "source": [
        "# Train the model\n",
        "model.fit(x_train, y_train, batch_size=128, epochs=5, verbose=1, validation_split=0.1)\n",
        "\n",
        "# Evaluate the model\n",
        "loss, accuracy = model.evaluate(x_test, y_test, verbose=0)\n",
        "print('Test accuracy:', accuracy)"
      ],
      "metadata": {
        "colab": {
          "base_uri": "https://localhost:8080/"
        },
        "id": "R2wAstmuZiio",
        "outputId": "051c4106-0d4c-415b-e018-04178ce572e4"
      },
      "execution_count": null,
      "outputs": [
        {
          "output_type": "stream",
          "name": "stdout",
          "text": [
            "Epoch 1/5\n",
            "422/422 [==============================] - 24s 54ms/step - loss: 0.2289 - accuracy: 0.9352 - val_loss: 0.0748 - val_accuracy: 0.9798\n",
            "Epoch 2/5\n",
            "422/422 [==============================] - 21s 50ms/step - loss: 0.0699 - accuracy: 0.9793 - val_loss: 0.0648 - val_accuracy: 0.9805\n",
            "Epoch 3/5\n",
            "422/422 [==============================] - 21s 50ms/step - loss: 0.0475 - accuracy: 0.9856 - val_loss: 0.0547 - val_accuracy: 0.9852\n",
            "Epoch 4/5\n",
            "422/422 [==============================] - 21s 50ms/step - loss: 0.0343 - accuracy: 0.9899 - val_loss: 0.0478 - val_accuracy: 0.9872\n",
            "Epoch 5/5\n",
            "422/422 [==============================] - 21s 50ms/step - loss: 0.0265 - accuracy: 0.9919 - val_loss: 0.0493 - val_accuracy: 0.9875\n",
            "Test accuracy: 0.9854999780654907\n"
          ]
        }
      ]
    },
    {
      "cell_type": "markdown",
      "source": [
        "Data Loading: Loads the MNIST dataset, which consists of 60,000 training images and 10,000 test images of handwritten digits.\n",
        "\n",
        "Preprocessing: Reshapes the input images and scales the pixel values to be between 0 and 1.\n",
        "\n",
        "Model Architecture: Defines a simple convolutional neural network (CNN) model with two convolutional layers followed by max-pooling, flattening, and two fully connected (dense) layers.\n",
        "\n",
        "Compilation: Compiles the model with categorical cross-entropy loss and the Adam optimizer.\n",
        "\n",
        "Training: Trains the model on the training data for 5 epochs with a batch size of 128 and 10% validation split.\n",
        "\n",
        "Evaluation: Evaluates the trained model on the test data and prints the test accuracy."
      ],
      "metadata": {
        "id": "tjRxaBjhZnYa"
      }
    },
    {
      "cell_type": "code",
      "source": [
        "import numpy as np\n",
        "import matplotlib.pyplot as plt"
      ],
      "metadata": {
        "id": "Ea_nCFCtZlhZ"
      },
      "execution_count": null,
      "outputs": []
    },
    {
      "cell_type": "code",
      "source": [
        "# Choose a random sample from the test set\n",
        "sample_index = np.random.randint(0, len(x_test))\n",
        "sample_image = x_test[sample_index]\n",
        "sample_label = np.argmax(y_test[sample_index])"
      ],
      "metadata": {
        "id": "yfRCJKHCaEWc"
      },
      "execution_count": null,
      "outputs": []
    },
    {
      "cell_type": "code",
      "source": [
        "# Reshape the sample image to match the model input shape\n",
        "sample_image = sample_image.reshape(1, 28, 28, 1)"
      ],
      "metadata": {
        "id": "HXUlWeryaLDX"
      },
      "execution_count": null,
      "outputs": []
    },
    {
      "cell_type": "code",
      "source": [
        "# Make predictions on the sample image\n",
        "predictions = model.predict(sample_image)\n",
        "predicted_label = np.argmax(predictions)"
      ],
      "metadata": {
        "id": "Mka5ArLmaPef",
        "outputId": "4f30dc09-f38a-4b45-d092-dbaa43ae6d0f",
        "colab": {
          "base_uri": "https://localhost:8080/"
        }
      },
      "execution_count": null,
      "outputs": [
        {
          "output_type": "stream",
          "name": "stdout",
          "text": [
            "1/1 [==============================] - 0s 89ms/step\n"
          ]
        }
      ]
    },
    {
      "cell_type": "code",
      "source": [
        "# Display the sample image and prediction\n",
        "plt.imshow(sample_image.reshape(28, 28), cmap='gray')\n",
        "plt.title(f\"True Label: {sample_label}, Predicted Label: {predicted_label}\")\n",
        "plt.axis('off')\n",
        "plt.show()"
      ],
      "metadata": {
        "id": "g82wa8l5aSE-",
        "outputId": "05753e65-1ee5-45fc-ac26-6f825c6fd844",
        "colab": {
          "base_uri": "https://localhost:8080/",
          "height": 428
        }
      },
      "execution_count": null,
      "outputs": [
        {
          "output_type": "display_data",
          "data": {
            "text/plain": [
              "<Figure size 640x480 with 1 Axes>"
            ],
            "image/png": "[encoded data removed]"
          },
          "metadata": {}
        }
      ]
    },
    {
      "cell_type": "code",
      "source": [],
      "metadata": {
        "id": "VY76IKV4aUr1"
      },
      "execution_count": null,
      "outputs": []
    }
  ]
}